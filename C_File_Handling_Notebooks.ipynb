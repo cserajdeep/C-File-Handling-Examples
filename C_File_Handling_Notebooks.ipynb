{
  "nbformat": 4,
  "nbformat_minor": 0,
  "metadata": {
    "colab": {
      "name": "C_File_Handling_Notebooks.ipynb",
      "provenance": [],
      "collapsed_sections": []
    },
    "kernelspec": {
      "name": "python3",
      "display_name": "Python 3"
    },
    "language_info": {
      "name": "python"
    }
  },
  "cells": [
    {
      "cell_type": "markdown",
      "metadata": {
        "id": "I1BLYzL1ROmB"
      },
      "source": [
        "# **File Handling Tutorials**\n",
        "\n",
        "\n"
      ]
    },
    {
      "cell_type": "code",
      "metadata": {
        "colab": {
          "base_uri": "https://localhost:8080/",
          "height": 78
        },
        "id": "8U0dXIHBoa_N",
        "outputId": "3e5af799-0c89-4187-a34f-39e6aefb816d"
      },
      "source": [
        "%%html \n",
        "<h1><marquee style='width: 100%; color: blue;'><b>Rajdeep Sir</b></marquee></h1>"
      ],
      "execution_count": 44,
      "outputs": [
        {
          "output_type": "display_data",
          "data": {
            "text/html": [
              "<h1><marquee style='width: 100%; color: blue;'><b>Rajdeep Sir</b></marquee></h1>"
            ],
            "text/plain": [
              "<IPython.core.display.HTML object>"
            ]
          },
          "metadata": {}
        }
      ]
    },
    {
      "cell_type": "markdown",
      "metadata": {
        "id": "PYryU4ORXcgZ"
      },
      "source": [
        "**1. Write contents in a file using C.**"
      ]
    },
    {
      "cell_type": "code",
      "metadata": {
        "colab": {
          "base_uri": "https://localhost:8080/"
        },
        "id": "3GvtonW1RAqU",
        "outputId": "0a97634f-2024-45ce-dfc3-65ede21ba773"
      },
      "source": [
        "%%writefile Write_Example1.c\n",
        "#include <stdio.h>\n",
        "\n",
        "int main() {\n",
        "   char ch; \n",
        "   FILE *f = fopen(\"file1.txt\", \"w\");\n",
        "   do{\n",
        "   ch = getchar();\n",
        "   if((ch!='q') && (ch!='Q'))\n",
        "    fputc(ch, f);\n",
        "   else\n",
        "    break;\n",
        "    \n",
        "   }while(1);\n",
        "   \n",
        "   fclose(f);\n",
        "   return 0;\n",
        "}"
      ],
      "execution_count": 107,
      "outputs": [
        {
          "output_type": "stream",
          "name": "stdout",
          "text": [
            "Overwriting Write_Example1.c\n"
          ]
        }
      ]
    },
    {
      "cell_type": "code",
      "metadata": {
        "id": "-7eLbtuAYUdw"
      },
      "source": [
        "%%script bash\n",
        "gcc Write_Example1.c -std=c99 -o  Write_Example1"
      ],
      "execution_count": 108,
      "outputs": []
    },
    {
      "cell_type": "code",
      "metadata": {
        "colab": {
          "base_uri": "https://localhost:8080/"
        },
        "id": "8ey4eQPaYZBy",
        "outputId": "037b905d-6431-4e2f-a33f-d789cdaff390"
      },
      "source": [
        "!./Write_Example1"
      ],
      "execution_count": 110,
      "outputs": [
        {
          "output_type": "stream",
          "name": "stdout",
          "text": [
            "k\n",
            "i\n",
            "I\n",
            "t\n",
            "Q\n"
          ]
        }
      ]
    },
    {
      "cell_type": "markdown",
      "metadata": {
        "id": "R0TDFW3Cak_O"
      },
      "source": [
        "**2. Read contents in a file using C.**"
      ]
    },
    {
      "cell_type": "code",
      "metadata": {
        "colab": {
          "base_uri": "https://localhost:8080/"
        },
        "id": "hFYcQiBxaosC",
        "outputId": "221bbe06-253f-49d6-b47f-f16d212b4b8a"
      },
      "source": [
        "%%writefile Read_Example1.c\n",
        "#include <stdio.h>\n",
        "int main() {\n",
        "   FILE *f = fopen(\"file1.txt\", \"r\");\n",
        "   char ch = getc(f);\n",
        "   while (ch != EOF) {\n",
        "      putchar(ch);\n",
        "      ch = getc(f);\n",
        "   }\n",
        "   fclose(f);\n",
        "   return 0;\n",
        "}"
      ],
      "execution_count": 114,
      "outputs": [
        {
          "output_type": "stream",
          "name": "stdout",
          "text": [
            "Overwriting Read_Example1.c\n"
          ]
        }
      ]
    },
    {
      "cell_type": "code",
      "metadata": {
        "id": "ehnzekLLa1uk"
      },
      "source": [
        "%%script bash\n",
        "gcc Read_Example1.c -std=c99 -o  Read_Example1"
      ],
      "execution_count": 115,
      "outputs": []
    },
    {
      "cell_type": "code",
      "metadata": {
        "colab": {
          "base_uri": "https://localhost:8080/"
        },
        "id": "6Cj_xaEqa4_v",
        "outputId": "e6c5e245-15ff-4683-e341-61b0af64aff9"
      },
      "source": [
        "!./Read_Example1"
      ],
      "execution_count": 116,
      "outputs": [
        {
          "output_type": "stream",
          "name": "stdout",
          "text": [
            "k\n",
            "i\n",
            "I\n",
            "t\n"
          ]
        }
      ]
    },
    {
      "cell_type": "markdown",
      "metadata": {
        "id": "O_pCF21_Rjcb"
      },
      "source": [
        "**3. C program to read name and marks of n number of students and store them in a file.**"
      ]
    },
    {
      "cell_type": "code",
      "metadata": {
        "colab": {
          "base_uri": "https://localhost:8080/"
        },
        "id": "ZlDVyZ8URd0X",
        "outputId": "011498ce-7937-4396-9046-5b0c0b6c3488"
      },
      "source": [
        "%%writefile Write_Example3.c\n",
        "#include <stdio.h>\n",
        "#include <stdlib.h>\n",
        "\n",
        "int main()\n",
        "{\n",
        "   char name[50];\n",
        "   int marks, i, num;\n",
        "\n",
        "   printf(\"Enter number of students: \");\n",
        "   scanf(\"%d\", &num);\n",
        "\n",
        "   FILE *fptr;\n",
        "   fptr = (fopen(\"file3.txt\", \"w\"));\n",
        "   if(fptr == NULL)\n",
        "   {\n",
        "       printf(\"Error!\");\n",
        "       exit(1);\n",
        "   }\n",
        "\n",
        "   for(i = 0; i < num; ++i)\n",
        "   {\n",
        "      printf(\"For student%d\\nEnter name: \", i+1);\n",
        "      scanf(\"%s\", name);\n",
        "\n",
        "      printf(\"Enter marks: \");\n",
        "      scanf(\"%d\", &marks);\n",
        "\n",
        "      fprintf(fptr,\"\\nName: %s \\nMarks=%d \\n\", name, marks);\n",
        "   }\n",
        "\n",
        "   fclose(fptr);\n",
        "   return 0;\n",
        "}"
      ],
      "execution_count": 9,
      "outputs": [
        {
          "output_type": "stream",
          "name": "stdout",
          "text": [
            "Writing Write_Example3.c\n"
          ]
        }
      ]
    },
    {
      "cell_type": "code",
      "metadata": {
        "id": "OA1Ys31vR4XR"
      },
      "source": [
        "%%script bash\n",
        "gcc Write_Example3.c -std=c99 -o  Write_Example3"
      ],
      "execution_count": 10,
      "outputs": []
    },
    {
      "cell_type": "code",
      "metadata": {
        "colab": {
          "base_uri": "https://localhost:8080/"
        },
        "id": "VPqosWLpSC4S",
        "outputId": "3319af89-acac-44f2-9306-f05c7450ebf6"
      },
      "source": [
        "!./Write_Example3"
      ],
      "execution_count": 11,
      "outputs": [
        {
          "output_type": "stream",
          "name": "stdout",
          "text": [
            "Enter number of students: 2\n",
            "For student1\n",
            "Enter name: AA\n",
            "Enter marks: 75\n",
            "For student2\n",
            "Enter name: BB\n",
            "Enter marks: 56\n"
          ]
        }
      ]
    },
    {
      "cell_type": "markdown",
      "metadata": {
        "id": "m6yd3jVVS26M"
      },
      "source": [
        "**4. C program to read name and marks of n number of students from and store them in a file. If the file previously exits, add the information to the file.**"
      ]
    },
    {
      "cell_type": "code",
      "metadata": {
        "colab": {
          "base_uri": "https://localhost:8080/"
        },
        "id": "t-KVsdpPReKN",
        "outputId": "7029b175-cc95-4144-c7c1-80928f1a54b9"
      },
      "source": [
        "%%writefile Append_Example3.c\n",
        "#include <stdio.h>\n",
        "#include <stdlib.h>\n",
        "int main()\n",
        "{\n",
        "   char name[50];\n",
        "   int marks, i, num;\n",
        "\n",
        "   printf(\"Enter number of students: \");\n",
        "   scanf(\"%d\", &num);\n",
        "\n",
        "   FILE *fptr;\n",
        "   fptr = (fopen(\"file3.txt\", \"a\"));\n",
        "   if(fptr == NULL)\n",
        "   {\n",
        "       printf(\"Error!\");\n",
        "       exit(1);\n",
        "   }\n",
        "\n",
        "   for(i = 0; i < num; ++i)\n",
        "   {\n",
        "      printf(\"For student%d\\nEnter name: \", i+1);\n",
        "      scanf(\"%s\", name);\n",
        "\n",
        "      printf(\"Enter marks: \");\n",
        "      scanf(\"%d\", &marks);\n",
        "\n",
        "      fprintf(fptr,\"\\nName: %s \\nMarks=%d \\n\", name, marks);\n",
        "   }\n",
        "\n",
        "   fclose(fptr);\n",
        "   return 0;\n",
        "}"
      ],
      "execution_count": 19,
      "outputs": [
        {
          "output_type": "stream",
          "name": "stdout",
          "text": [
            "Writing Append_Example3.c\n"
          ]
        }
      ]
    },
    {
      "cell_type": "code",
      "metadata": {
        "id": "ywwBghTDTSF2"
      },
      "source": [
        "%%script bash\n",
        "gcc Append_Example3.c -std=c99 -o  Append_Example3"
      ],
      "execution_count": 20,
      "outputs": []
    },
    {
      "cell_type": "code",
      "metadata": {
        "colab": {
          "base_uri": "https://localhost:8080/"
        },
        "id": "Rw7M717cTPBf",
        "outputId": "23cfdc2f-a5ec-48c3-b015-fce94fe3d201"
      },
      "source": [
        "!./Append_Example3"
      ],
      "execution_count": 21,
      "outputs": [
        {
          "output_type": "stream",
          "name": "stdout",
          "text": [
            "Enter number of students: 1\n",
            "For student1\n",
            "Enter name: CC\n",
            "Enter marks: 98\n"
          ]
        }
      ]
    },
    {
      "cell_type": "markdown",
      "metadata": {
        "id": "q_QKBeDqXPfi"
      },
      "source": [
        "**5. C program to read name and marks of n number of students from a file. If the file previously exits, otherwise print error message.**"
      ]
    },
    {
      "cell_type": "code",
      "metadata": {
        "colab": {
          "base_uri": "https://localhost:8080/"
        },
        "id": "9_qHjPNCUCX6",
        "outputId": "678dc39c-c941-4268-884e-e4e8accaca6f"
      },
      "source": [
        "%%writefile Read_Example3.c\n",
        "#include <stdio.h>\n",
        "#include <stdlib.h>\n",
        "int main()\n",
        "{\n",
        "   char name[50];\n",
        "   int marks, i, num;\n",
        "\n",
        "   printf(\"Enter number of students: \");\n",
        "   scanf(\"%d\", &num);\n",
        "\n",
        "   FILE *fptr;\n",
        "   fptr = (fopen(\"file3.txt\", \"r\"));\n",
        "   if(fptr == NULL)\n",
        "   {\n",
        "       printf(\"Error!\");\n",
        "       exit(1);\n",
        "   }\n",
        "   \n",
        "   for(i = 1; i <= num; ++i)\n",
        "   {\n",
        "      if(!feof(fptr)){   \n",
        "      fscanf(fptr,\"\\nName: %s \\nMarks=%d \\n\", name, &marks);\n",
        "      \n",
        "      printf(\"Student%d: Name: \", i);\n",
        "      printf(\"%s\", name);\n",
        "\n",
        "      printf(\"\\tMarks: \");\n",
        "      printf(\"%d\", marks);\n",
        "      }\n",
        "    else{\n",
        "      printf(\"\\nOOPS!! There are only %d students in the file.\",i-1);\n",
        "      break;\n",
        "    }\n",
        "      printf(\"\\n\");      \n",
        "   }\n",
        "\n",
        "   fclose(fptr);\n",
        "   return 0;\n",
        "}"
      ],
      "execution_count": 62,
      "outputs": [
        {
          "output_type": "stream",
          "name": "stdout",
          "text": [
            "Overwriting Read_Example3.c\n"
          ]
        }
      ]
    },
    {
      "cell_type": "code",
      "metadata": {
        "id": "7Hu5FzEuUWbU"
      },
      "source": [
        "%%script bash\n",
        "gcc Read_Example3.c -std=c99 -o  Read_Example3"
      ],
      "execution_count": 63,
      "outputs": []
    },
    {
      "cell_type": "code",
      "metadata": {
        "colab": {
          "base_uri": "https://localhost:8080/"
        },
        "id": "5hmaJZhOUdhP",
        "outputId": "a1e69357-8e0a-459f-bd24-7ea072261497"
      },
      "source": [
        "!./Read_Example3"
      ],
      "execution_count": 29,
      "outputs": [
        {
          "output_type": "stream",
          "name": "stdout",
          "text": [
            "Enter number of students: 1\n",
            "Student1: Name: AA\tMarks: 75"
          ]
        }
      ]
    },
    {
      "cell_type": "code",
      "metadata": {
        "colab": {
          "base_uri": "https://localhost:8080/"
        },
        "id": "t8FQ-CSkU4m0",
        "outputId": "e0b341e4-5b06-4d47-bc22-4ad3e02ba3cc"
      },
      "source": [
        "!./Read_Example3"
      ],
      "execution_count": 64,
      "outputs": [
        {
          "output_type": "stream",
          "name": "stdout",
          "text": [
            "Enter number of students: 6\n",
            "Student1: Name: AA\tMarks: 75\n",
            "Student2: Name: BB\tMarks: 56\n",
            "Student3: Name: CC\tMarks: 98\n",
            "\n",
            "OOPS!! There are only 3 students in the file."
          ]
        }
      ]
    },
    {
      "cell_type": "markdown",
      "metadata": {
        "id": "9uIgNJdue0lp"
      },
      "source": [
        "**6. C program to write all the members of an array of structures to a file using fwrite(). Read the array from the file and display on the screen.**"
      ]
    },
    {
      "cell_type": "code",
      "metadata": {
        "colab": {
          "base_uri": "https://localhost:8080/"
        },
        "id": "PqU1c4eje3Uz",
        "outputId": "03cdc240-099d-43cb-99b3-43dbba9b0a71"
      },
      "source": [
        "%%writefile Structure_WR_Example4.c\n",
        "#include <stdio.h>\n",
        "\n",
        "struct student\n",
        "{\n",
        "   char name[50];\n",
        "   float height;\n",
        "};\n",
        "int main(){  \n",
        "    FILE *fptr;\n",
        "    int i,n;\n",
        "\n",
        "    printf(\"Enter the number of records: \");\n",
        "    scanf(\"%d\",&n);\n",
        "    getchar();\n",
        "\n",
        "    struct student stud1[n], stud2[n];\n",
        "    /*###### Write Structures from File ######*/\n",
        "    fptr = fopen(\"file4.txt\",\"w\");\n",
        "    for(i = 0; i < n; ++i)\n",
        "    {   \n",
        "        printf(\"Enter name: \");\n",
        "        scanf(\"%[^\\n]\",stud1[i].name);\n",
        "     \n",
        "        printf(\"\\nEnter height: \"); \n",
        "        scanf(\"%f\", &stud1[i].height);\n",
        "        getchar();\n",
        "    }\n",
        "\n",
        "    fwrite(stud1, sizeof(stud1), 1, fptr);\n",
        "    fclose(fptr);\n",
        "    \n",
        "    /*###### Read Structures from File #######*/\n",
        "    fptr = fopen(\"file4.txt\", \"r\");\n",
        "    fread(stud2, sizeof(stud2), 1, fptr);\n",
        "    for(i = 0; i < n; ++i)\n",
        "    {\n",
        "        printf(\"\\nName: %s \\t Height: %f\", stud2[i].name, stud2[i].height);\n",
        "    }\n",
        "    fclose(fptr);\n",
        "}"
      ],
      "execution_count": 38,
      "outputs": [
        {
          "output_type": "stream",
          "name": "stdout",
          "text": [
            "Overwriting Structure_WR_Example4.c\n"
          ]
        }
      ]
    },
    {
      "cell_type": "code",
      "metadata": {
        "id": "356ifJHpfJ4g"
      },
      "source": [
        "%%script bash\n",
        "gcc Structure_WR_Example4.c  -std=c99 -o  Structure_WR_Example4"
      ],
      "execution_count": 39,
      "outputs": []
    },
    {
      "cell_type": "code",
      "metadata": {
        "colab": {
          "base_uri": "https://localhost:8080/"
        },
        "id": "rnO3eMoTfJ75",
        "outputId": "accab0ac-b7e7-4859-eda5-99c3f8be4b82"
      },
      "source": [
        "!./Structure_WR_Example4"
      ],
      "execution_count": 40,
      "outputs": [
        {
          "output_type": "stream",
          "name": "stdout",
          "text": [
            "Enter the number of records: 3\n",
            "Enter name: AA TOM\n",
            "\n",
            "Enter height: 5.7\n",
            "Enter name: BB CAT\n",
            "\n",
            "Enter height: 6.3\n",
            "Enter name: DD Fly\n",
            "\n",
            "Enter height: 4.5\n",
            "\n",
            "Name: AA TOM \t Height: 5.700000\n",
            "Name: BB CAT \t Height: 6.300000\n",
            "Name: DD Fly \t Height: 4.500000"
          ]
        }
      ]
    },
    {
      "cell_type": "code",
      "metadata": {
        "id": "HF6OhnWWlm-G"
      },
      "source": [
        ""
      ],
      "execution_count": null,
      "outputs": []
    }
  ]
}